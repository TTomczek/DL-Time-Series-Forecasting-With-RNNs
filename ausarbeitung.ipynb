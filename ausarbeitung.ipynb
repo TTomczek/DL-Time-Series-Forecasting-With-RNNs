{
 "cells": [
  {
   "cell_type": "markdown",
   "id": "dbc33831cdcd3d27",
   "metadata": {},
   "source": [
    "# Time Series Forecasting mit rekurrenten neuronalen Netzen\n",
    "Dieses Notebook entsteht im Rahmen des Moduls `Deep Learning` an der Fachhochschule Südwestfalen. Es beschäftigt sich mit dem Thema `Time Series Forecasting` und untersucht die Anwendung von rekurrenten neuronalen Netzen (RNN) auf Zeitreihendaten...."
   ]
  },
  {
   "cell_type": "markdown",
   "id": "ec515710907f7ee3",
   "metadata": {},
   "source": [
    "## 1. Einleitung"
   ]
  },
  {
   "cell_type": "markdown",
   "id": "58dedd5c44055225",
   "metadata": {},
   "source": [
    "## 2. Was ist Time Series Forecasting (Zeitreihenvorhersage)?"
   ]
  },
  {
   "cell_type": "markdown",
   "id": "f70f7640-11d0-4c4a-8241-48b0ad583f53",
   "metadata": {},
   "source": [
    "Christian\n",
    "\n",
    "Definition gemäß der Webseite Studysmarter:<br>\n",
    "**Zeitreihenprognose** ist eine statistische Methode zur Vorhersage zukünftiger Ereignisse oder Werte, indem historische Zeitreihendaten analysiert und Muster erkannt werden. [C1]\n",
    "\n",
    "Beispiele:<br>\n",
    "- Wetterdaten für zukünftiges Wetter (https://www.studysmarter.de/studium/mathematik-studium/statistik-studium/zeitreihenprognose/)\n",
    "- Aktienkurse für zukünftige Aktienverläufe\n",
    "- Passagierzahlen für zukünftige Passagiervorhersagen (https://data-science-crashkurs.de/chapters/kapitel_09.html)\n",
    "\n",
    "Die Seite https://www.emft.fraunhofer.de/de/kompetenzen/systemloesungen-ki/ki-algorithmen-zeitreihenanalyse.html nennt zudem noch folgende mögliche Beispiele:\n",
    "- Industrie 4.0 mit IIoT (Industrial Internet of Things)\n",
    "- Logistik\n",
    "- Finanzen\n",
    "- Stromnetze\n",
    "- Internetverkehr\n",
    "- Umweltmonitoring\n",
    "- Gesundheitsdaten\n",
    "\n",
    "Außerdem werden auf der Seite typische Methoden der künstlichen Intelligenz inklusive grafischer Beispiele genannt, wie z.B.: Regression, Klassifikation, Anomalieerkennung, Vorhersage\n",
    "\n",
    "Grafisches Beispiel einer Klassifikation:<br>\n",
    "<img style = 'border: 5px solid #555' src=\"Pictures/classification-dt-mls-emft.jpg\" width=\"30%\" alt=\"Grafisches Beispiel einer Klassifikation\"> \n",
    "<br>\n",
    "Grafisches Beispiel einer Anomalieerkennung:<br>\n",
    "<img style = 'border: 5px solid #555' src=\"Pictures/anomaly-dt-mls-emft.jpg\" width=\"30%\" alt=\"Grafisches Beispiel einer Anomalieerkennung\">\n",
    "<br>\n",
    "Grafisches Beispiel einer Anomalieerkennung:<br>\n",
    "<img style = 'border: 5px solid #555' src=\"Pictures/forecasting-dt-mls-emft.jpg\" width=\"30%\" alt=\"Grafisches Beispiel einer Vorhersage\">"
   ]
  },
  {
   "cell_type": "markdown",
   "id": "46aa77e9-974d-453e-ae40-93c3d9e37a87",
   "metadata": {
    "tags": []
   },
   "source": [
    "Quellen:\n",
    "* C1: StudySmarter GmbH. (2024) Zeitreihenprognose: Methoden & Anwendung | StudySmarter. https://www.studysmarter.de/studium/mathematik-studium/statistik-studium/zeitreihenprognose/. 29.12.2024"
   ]
  },
  {
   "cell_type": "markdown",
   "id": "43de5d59607d0ce7",
   "metadata": {},
   "source": [
    "## 3. Was sind recurrent neural networks (Rekurrente neuronale Netzwerke)?"
   ]
  },
  {
   "cell_type": "markdown",
   "id": "afca4b64d6396f5d",
   "metadata": {},
   "source": [
    "Ein rekurrentes oder auch rückgekoppeltes neuronales Netzwerk (RNN) ist ein künstliches neuronales Netzwerk, dass bei jeder Verarbeitung einer Einheit auch ein Ergebnis aus einer früheren Iteration erhält. Damit eignet es sich besonders für die Verarbeitung von sequentiellen Daten, wie z.B. Zeitreihendaten, Text oder Sprache.\n",
    "Ein RNN funktioniert, indem es eine spezielle Ausgabe des vorherigen Schrittes, den hidden state oder auch state vector, als zusätzlichen Input für den nächsten Schritt verwendet. Das bedeutet, dass immer zwei Ausgaben generiert werden. Dadurch kann es sich an vorherige Iterationen erinnern und somit auch auf längere Abhängigkeiten in den Daten reagieren. Das eigentliche Ergebnis wird dabei nur im letzten Schritt betrachtet. [T1, S. 116ff]\n",
    "\n",
    "<img style = 'border: 5px solid #555' src=\"Pictures/rnn-ablauf.png\" width=\"30%\" alt=\"Ablauf eines RNN\">\n",
    "\n",
    "[T1, S. 117]\n",
    "\n",
    "Das Bild zeigt den sequentiellen Ablauf eines RNN. Dabei bezeichnet \"t\" den aktuellen Schritt. Diese Schritte könnten bei der Verarbeitung von Text z.B. einzelne Wörter oder Buchstaben sein. Der hidden state wird dabei in jedem Schritt aktualisiert und an den nächsten Schritt weitergegeben.\n",
    "\n",
    "Die Verarbeitung einer Interation erfolgt dabei in drei Schritten die in folgendem Bild dargestellt sind:\n",
    "\n",
    "<img style = 'border: 5px solid #555' src=\"Pictures/rnn-schritte.png\" width=\"30%\" alt=\"Ablauf einer RNN Iteration\">\n",
    "\n",
    "[T1, S. 119]\n",
    "\n",
    "Der erste Schritt verbindet die beiden Eingangsvektoren zu einem einzigen Vektor. Anschließend wird der hidden State aktualisiert und im letzten Schritt wird der Ausgabewert berechnet.\n",
    "\n",
    "Das vorangegangene Beispiel lässt sich mit wenigen Zeilen Code in PyTorch implementieren. Bei dem nachfolgenden Code handelt es lediglich um einen Auszug und nicht um ein vollständiges, lauffähiges Beispiel.\n",
    "\n",
    "```python\n",
    "import torch\n",
    "import torch.nn as nn\n",
    "from torch.autograd import Variable\n",
    "\n",
    "class RNN(nn.Module):\n",
    "    def __init__(self, input_size, hidden_size, output_size):\n",
    "        super(RNN, self).__init__()\n",
    "        self.hidden_size = hidden_size\n",
    "        self.i2h = nn.Linear(input_size + hidden_size, hidden_size) # input to hidden as linear layer\n",
    "        self.i2o = nn.Linear(input_size + hidden_size, output_size) # input to output as linear layer\n",
    "        self.softmax = nn.LogSoftmax(dim=1) # softmax function for output\n",
    "    def forward(self, input, hidden):\n",
    "        combined = torch.cat((input, hidden), 1) # concatenate input and hidden state\n",
    "        hidden = self.i2h(combined) # calculate new hidden state\n",
    "        output = self.i2o(combined) # calculate output\n",
    "        output = self.softmax(output) # apply softmax function\n",
    "        return output, hidden \n",
    "    def initHidden(self):\n",
    "        return Variable(torch.zeros(1, self.hidden_size)) # initialize hidden state with zeros\n",
    "\n",
    "# Run the RNN\n",
    "rnn = RNN(input_size, hidden_size, output_size)\n",
    "hidden = rnn.initHidden() # initialize hidden state\n",
    "\n",
    "for i in range(len(toy_story_review)):\n",
    "    output, hidden = rnn(toy_story_review[i], hidden) # process each word in the review\n",
    "```\n",
    "[T1, S. 118]\n",
    "\n",
    "Da ein RNN nun auch eine Zeitkomponente mit bringt, ist der normale Backpropagation Algorithmus nicht anwendbar, da dieser die Schritte des RNN nicht berücksichtigen kann.\n",
    "Die Formel für den Backpropagation Algorithmus lautet:\n",
    "$$ \\Delta w_{ij} = -\\eta \\frac{\\partial E}{\\partial w_{ij}} $$\n",
    "Dabei ist $ \\Delta w_{ij} $ das gewicht zwischen den Neuronen i und j, $ \\eta $ die Lernrate und $ \\partial E $ der Fehler der Fehlerfunktion (Loss).\n",
    "\n",
    "\n",
    "Um dieses Problem zu lösen wurde der \"Backpropagation through time\" Algorithmus entwickelt. Dieser besteht aus vier Schritten:\n",
    "\n",
    "Zuerst wird der Fehler $ \\delta_t $ für jeden Zeitschritt berechnet. Dieser wird mit der Ableitung der Aktivierungsfunktion $ g'(y_t) $ multipliziert. Als aktivierungsfunktion verwendet man üblicherweise die Tanh-Funktion.\n",
    "$$ \\delta_t = \\frac{\\partial E}{\\partial y_t} \\cdot g'(y_t) $$\n",
    "\n",
    "Anschließend wird der Gradient für jeden Zeitschritt berechnet, indem die zuvor berechneten Fehler $ \\delta_t $ mit dem hidden statedes Zeitschritts $ \\cdot h_t^T $ multipliziert und anschließend aufsummiert werden.\n",
    "$$ \\Delta W_y = \\sum_{t} \\delta_t \\cdot h_t^T $$\n",
    "\n",
    "Danach wird der Gradient des hidden state $ \\Delta W_h $ berechnet. Dafür wird der Fehler $ \\delta_t $ mit der Ableitung des hidden state multipliziert und wieder über alle Zeitschritte aufsummiert.\n",
    "$$ \\Delta W_h = \\sum_{t} \\delta_t \\cdot \\frac{\\partial h_t}{\\partial W_h} $$\n",
    "\n",
    "Zuletzt wird der Gradient des Eingangsvektors berechnet. Dies geschieht analog zum vorherigen Schritt, nur dass hier der Fehler $ \\delta_t $ mit der Ableitung des Eingangsvektors $ \\delta W_x $, anstatt dem hidden state $ \\delta W_h $, multipliziert wird.\n",
    "$$ \\Delta W_x = \\sum_{t} \\delta_t \\cdot \\frac{\\partial h_t}{\\partial W_x} $$\n",
    "\n",
    "Diese einfache Form von RNNs hat jedoch zwei Probleme, die als Vanishing und Exploding Gradient Problem bekannt sind. Diese treten auf, wenn eine große Sequenz an Daten verarbeitet werden soll. Bei diesen Problemen werden die Gradienten entweder zu klein oder zu groß, um sinnvolle Änderungen an den Gewichten vornehmen zu können. Dadurch kann das RNN keine langfristigen Abhängigkeiten in den Daten erkennen. Um dieses Problem zu lösen, gibt es verschiedene Ansätze wie zum Beispiel das Gradient Clipping, was die Werte der Gradienten mit einem Maximal- und einem Minimalwert begrenzt, oder der Einsatz von Normalisierungstechniken wie dem Layer Normalization oder dem Batch Normalization. [T2, S. 275ff]\n",
    "In realen Anwendungsszenarien werden jedoch speziell aufgrund dieser Probleme entwickelte Netzwerke wie das Long Short-Term Memory (LSTM) oder das Gated Recurrent Unit (GRU) verwendet. Diese Netzwerke sind in der Lage, langfristige Abhängigkeiten in den Daten zu erkennen und zu verarbeiten.\n",
    "\n",
    "Das Long Short-Term Memory (LSTM) Netzwerk wurde 1997 von Sepp Hochreiter und Jürgen Schmidhuber entwickelt, um die Probleme des einfachen RNN zu lösen.\n",
    "Dabei ist folgende Architektur entstanden:\n",
    "\n",
    " <img style = 'border: 5px solid #555' src=\"Pictures/lstm-zelle.png\" width=\"50%\" alt=\"Architektur eines LSTM\">\n",
    " \n",
    " [T2, S. 407]\n",
    " \n",
    "Oben in der Abbildung ist eine gerade Linie, vom Eingang c(t-1), zu sehen, die mit nur wenigen Schritten Informationen weitergibt. Dies ist das \"Langzeitgedächtnis\" (L) des LSTM. Dieses passiert zuerst das sogenannte \"Forget-Gate\", wo mittels einer elementweisen Multiplikation entschieden wird welche Information vergessen werden soll. Die Entscheidung welche Information vergessen werden soll, wird durch die Sigmoid (logistische) Funktion f(t) entschieden die nach einer linearen Schicht auf die Daten des \"Kurzzeitgedächtnisses\" (S) h(t-1) zusammen mit dne aktuellen Eingabedaten x(t) angewendet wird. Anschließend wird über die Tanh Funktion g(t), wieder nach einer linearen Schicht mit den Daten aus h(t-1) und x(t), entschieden welche neuen Informationen in das Langzeitgedächtnis übernommen werden sollen. Zuvor werden diese Daten noc h durch eine weitere Sigmoid Funktion i(t) gefiltert. Das Langzeitgedächtnis wird ab dieser Stelle nicht mehr verändert und kann ausgegeben werden. Das Kurzzeitgedächtnis durch eine Tanh Funktion und einer Sigmoid Funktion o(t) gefiltert und ausgegeben. Die Sigmoid Funktion o(t) entscheidet dabei welche Informationen aus dem Langzeitgedächtnis ausgegeben werden sollen. Dieses Ergebnis ergibt dann das neue Kurzzeitgedächtnis h(t), dass an den nächsten Schritt weitergegeben werden kann, und das aktuelle Ergebnis y(t). [T2, S. 406ff]\n",
    "\n",
    "Eine neuere Variante des LSTM ist das Gated Recurrent Unit (GRU). Dieses wurde 2014 von Kyunghyun Cho et al. entwickelt und ist eine vereinfachte Version des LSTM. Es besteht aus zwei Gates, dem Reset-Gate (Forget-Gate) und dem Update-Gate (Eingabe-Gate). Das Reset-Gate entscheidet, welche Informationen vergessen werden sollen, und das Update-Gate entscheidet, welche Informationen im hidden state behalten werden sollen. [T2, S. 410]\n",
    "\n",
    "Die Architektur des GRU sieht folgendermaßen aus:\n",
    "\n",
    "<img style = 'border: 5px solid #555' src=\"Pictures/gru-zelle.png\" width=\"50%\" alt=\"Architektur eines GRU\">\n",
    "\n",
    "[T2, S. 410]\n",
    "\n",
    "Im Vergleich zum LSTM ist weniger komplex. Der auffälligste Unterschied ist das Fehlen des Langzeitgedächtnisses. Beim GRU werden Lang- und Kurzzeitgedächtnis in einem hidden state zusammengefasst. Das Reset- und das Update-Gate werden dabei durch einen einzigen Controller, einer linearen Schicht und einer Sigmoid Funktion z(t), gesteuert. Dabei wird das Ergebnis für das Forget-Gate negiert. Wird eine Information hinzugefügt, wird als Gegenteil zuvor eine andere vergessen. Die Informationen die hinzugefügt werden sollen stammen aus einer Tanh Funktion und einer Sigmoid Funktion r(t). Beim GRU entspricht dann der hidden state auch dem Ausgabewert. [T2, S. 410]"
   ]
  },
  {
   "metadata": {},
   "cell_type": "markdown",
   "source": [
    "Quellen:\n",
    "* T1: Mitchell, L. et al. (2019) Deep learning with Pytorch 1. x: implement deep learning techniques and neural network architecture variants using Python /. Second edition. Birmingham; Packt Publishing.\n",
    "* T2: Géron, A. & Rother, K. (2018) Praxiseinstieg Machine Learning mit Scikit-Learn und TensorFlow: Konzepte, Tools und Techniken für intelligente Systeme. 1. Auflage. Heidelberg: O’Reilly.\n",
    "* T3: Sepp Hochreiter, Jürgen Schmidhuber; Long Short-Term Memory. Neural Comput 1997; 9 (8): 1735–1780. doi: https://doi.org/10.1162/neco.1997.9.8.1735\n"
   ],
   "id": "172359285f1e85b9"
  },
  {
   "cell_type": "code",
   "execution_count": null,
   "id": "39524d29-fa5b-470a-b8f2-e3e9bed76849",
   "metadata": {},
   "outputs": [],
   "source": [
    "Tim"
   ]
  },
  {
   "cell_type": "markdown",
   "id": "ea2d24091bb38610",
   "metadata": {},
   "source": [
    "## 4. Datensatz"
   ]
  },
  {
   "metadata": {},
   "cell_type": "markdown",
   "source": "## 5. Implementierung eines RNN",
   "id": "4e1b7caefc4fc3ca"
  },
  {
   "metadata": {},
   "cell_type": "markdown",
   "source": [
    "## 6. Aktuelle Modelle\n",
    "Beispielmodelle Goldpreis oder Aktienpreis"
   ],
   "id": "c4697ef4fcd6ea3f"
  },
  {
   "cell_type": "markdown",
   "id": "353a46789790b6e9",
   "metadata": {},
   "source": [
    "## 7. Vergleich der Modelle\n",
    "Vergleich mit transformer-netwerken?"
   ]
  },
  {
   "cell_type": "markdown",
   "id": "f61f09d9",
   "metadata": {},
   "source": [
    "## 8. Fazit\n",
    "Eigenes Modell vs. verglichene Standardmodelle."
   ]
  }
 ],
 "metadata": {
  "kernelspec": {
   "display_name": "Python 3 (ipykernel)",
   "language": "python",
   "name": "python3"
  },
  "language_info": {
   "codemirror_mode": {
    "name": "ipython",
    "version": 3
   },
   "file_extension": ".py",
   "mimetype": "text/x-python",
   "name": "python",
   "nbconvert_exporter": "python",
   "pygments_lexer": "ipython3",
   "version": "3.10.11"
  }
 },
 "nbformat": 4,
 "nbformat_minor": 5
}
