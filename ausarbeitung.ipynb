{
 "cells": [
  {
   "metadata": {},
   "cell_type": "markdown",
   "source": [
    "# Time Series Forecasting mit rekurrenten neuronalen Netzen\n",
    "Dieses Notebook entsteht im Rahmen des Moduls `Deep Learning` an der Fachhochschule Südwestfalen. Es beschäftigt sich mit dem Thema `Time Series Forecasting` und untersucht die Anwendung von rekurrenten neuronalen Netzen (RNN) auf Zeitreihendaten...."
   ],
   "id": "dbc33831cdcd3d27"
  },
  {
   "metadata": {},
   "cell_type": "markdown",
   "source": "## 1. Einleitung",
   "id": "ec515710907f7ee3"
  },
  {
   "metadata": {},
   "cell_type": "markdown",
   "source": "## 2. Was ist Time Series Forecasting (Zeitreihenvorhersage)?",
   "id": "58dedd5c44055225"
  },
  {
   "metadata": {},
   "cell_type": "markdown",
   "source": "## 3. Was sind recurrent neural networks (Rekurrente neuronale Netzwerke)?",
   "id": "43de5d59607d0ce7"
  },
  {
   "metadata": {},
   "cell_type": "markdown",
   "source": "## 4. Datensatz",
   "id": "ea2d24091bb38610"
  },
  {
   "metadata": {},
   "cell_type": "markdown",
   "source": "## 5. Implementierung eines RNN",
   "id": "4e1b7caefc4fc3ca"
  },
  {
   "metadata": {},
   "cell_type": "markdown",
   "source": "## 6. Aktuelle Modelle",
   "id": "c4697ef4fcd6ea3f"
  },
  {
   "metadata": {},
   "cell_type": "markdown",
   "source": "",
   "id": "353a46789790b6e9"
  }
 ],
 "metadata": {
  "kernelspec": {
   "display_name": "Python 3",
   "language": "python",
   "name": "python3"
  },
  "language_info": {
   "codemirror_mode": {
    "name": "ipython",
    "version": 2
   },
   "file_extension": ".py",
   "mimetype": "text/x-python",
   "name": "python",
   "nbconvert_exporter": "python",
   "pygments_lexer": "ipython2",
   "version": "2.7.6"
  }
 },
 "nbformat": 4,
 "nbformat_minor": 5
}
