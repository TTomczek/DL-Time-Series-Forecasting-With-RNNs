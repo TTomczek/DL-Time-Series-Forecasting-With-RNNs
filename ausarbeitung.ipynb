{
 "cells": [
  {
   "cell_type": "markdown",
   "id": "dbc33831cdcd3d27",
   "metadata": {},
   "source": [
    "# Time Series Forecasting mit rekurrenten neuronalen Netzen\n",
    "Dieses Notebook entsteht im Rahmen des Moduls `Deep Learning` an der Fachhochschule Südwestfalen. Es beschäftigt sich mit dem Thema `Time Series Forecasting` und untersucht die Anwendung von rekurrenten neuronalen Netzen (RNN) auf Zeitreihendaten...."
   ]
  },
  {
   "cell_type": "markdown",
   "id": "ec515710907f7ee3",
   "metadata": {},
   "source": [
    "## 1. Einleitung"
   ]
  },
  {
   "cell_type": "markdown",
   "id": "58dedd5c44055225",
   "metadata": {},
   "source": [
    "## 2. Was ist Time Series Forecasting (Zeitreihenvorhersage)?"
   ]
  },
  {
   "cell_type": "code",
   "execution_count": null,
   "id": "e480c3f1-70cd-44f5-8746-52ac5210e329",
   "metadata": {},
   "outputs": [],
   "source": [
    "Christian"
   ]
  },
  {
   "cell_type": "markdown",
   "id": "43de5d59607d0ce7",
   "metadata": {},
   "source": [
    "## 3. Was sind recurrent neural networks (Rekurrente neuronale Netzwerke)?"
   ]
  },
  {
   "cell_type": "code",
   "execution_count": null,
   "id": "39524d29-fa5b-470a-b8f2-e3e9bed76849",
   "metadata": {},
   "outputs": [],
   "source": [
    "Tim"
   ]
  },
  {
   "cell_type": "markdown",
   "id": "ea2d24091bb38610",
   "metadata": {},
   "source": [
    "## 4. Datensatz"
   ]
  },
  {
   "cell_type": "markdown",
   "id": "4e1b7caefc4fc3ca",
   "metadata": {},
   "source": [
    "## 5. Implementierung eines RNN"
   ]
  },
  {
   "cell_type": "markdown",
   "id": "c4697ef4fcd6ea3f",
   "metadata": {},
   "source": [
    "## 6. Aktuelle Modelle\n",
    "Beispielmodelle Goldpreis oder Aktienpreis"
   ]
  },
  {
   "cell_type": "markdown",
   "id": "353a46789790b6e9",
   "metadata": {},
   "source": [
    "## 7. Vergleich der Modelle"
   ]
  },
  {
   "cell_type": "markdown",
   "id": "f61f09d9",
   "metadata": {},
   "source": [
    "## 8. Fazit\n",
    "Eigenes Modell vs. verglichene Standardmodelle."
   ]
  }
 ],
 "metadata": {
  "kernelspec": {
   "display_name": "Python 3 (ipykernel)",
   "language": "python",
   "name": "python3"
  },
  "language_info": {
   "codemirror_mode": {
    "name": "ipython",
    "version": 3
   },
   "file_extension": ".py",
   "mimetype": "text/x-python",
   "name": "python",
   "nbconvert_exporter": "python",
   "pygments_lexer": "ipython3",
   "version": "3.10.11"
  }
 },
 "nbformat": 4,
 "nbformat_minor": 5
}
